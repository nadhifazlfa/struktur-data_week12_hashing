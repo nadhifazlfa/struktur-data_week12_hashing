{
  "nbformat": 4,
  "nbformat_minor": 0,
  "metadata": {
    "colab": {
      "provenance": [],
      "authorship_tag": "ABX9TyNU1gMJxGeCOJBI9EYqKAQL",
      "include_colab_link": true
    },
    "kernelspec": {
      "name": "python3",
      "display_name": "Python 3"
    },
    "language_info": {
      "name": "python"
    }
  },
  "cells": [
    {
      "cell_type": "markdown",
      "metadata": {
        "id": "view-in-github",
        "colab_type": "text"
      },
      "source": [
        "<a href=\"https://colab.research.google.com/github/nadhifazlfa/struktur-data_week12_hashing/blob/main/struktur_data_week11_Hashing.ipynb\" target=\"_parent\"><img src=\"https://colab.research.google.com/assets/colab-badge.svg\" alt=\"Open In Colab\"/></a>"
      ]
    },
    {
      "cell_type": "code",
      "execution_count": null,
      "metadata": {
        "colab": {
          "base_uri": "https://localhost:8080/"
        },
        "id": "ebRnTq1OtdfS",
        "outputId": "7aecbc84-ae83-4baf-9b96-677b2c8760bd"
      },
      "outputs": [
        {
          "output_type": "stream",
          "name": "stdout",
          "text": [
            "Nilai untuk 'apel': 100\n",
            "Nilai untuk 'pisang': 200\n"
          ]
        }
      ],
      "source": [
        "class SimpleHashTable:\n",
        "    def __init__(self,size):\n",
        "        self.size = size\n",
        "        self.table = [None] * size\n",
        "\n",
        "    def hash_function(self, key):\n",
        "        return hash(key) % self.size\n",
        "\n",
        "    def insert(self, key, value):\n",
        "        index = self.hash_function(key)\n",
        "        self.table[index] = value\n",
        "\n",
        "    def search(self, key):\n",
        "        index =self.hash_function(key)\n",
        "        return self.table[index]\n",
        "\n",
        "# Contoh penggunaan\n",
        "ht = SimpleHashTable(10)\n",
        "ht.insert(\"apel\", 100)\n",
        "ht.insert(\"pisang\", 200)\n",
        "\n",
        "print(\"Nilai untuk 'apel':\", ht.search(\"apel\"))\n",
        "print(\"Nilai untuk 'pisang':\", ht. search(\"pisang\"))"
      ]
    },
    {
      "cell_type": "code",
      "source": [
        "class LinearProbingHashTable:\n",
        "  def __init__(self, size):\n",
        "      self.size = size\n",
        "      self.table = [None] * size\n",
        "\n",
        "  def hash_function(self, key):\n",
        "      return hash(key) % self.size\n",
        "\n",
        "  def insert(self, key, value):\n",
        "      index = self.hash_function(key)\n",
        "      original_index = index\n",
        "\n",
        "      while self.table[index] is not None:\n",
        "          if self.table[index] [0] == key:\n",
        "              break\n",
        "          index = (index + 1) % self.size\n",
        "          if index == original_index:\n",
        "              raise Exceptation(\"Hash table penuh\")\n",
        "\n",
        "      self.table[index] = (key, value)\n",
        "\n",
        "  def search(self, key):\n",
        "       index = self.hash_function(key)\n",
        "       original_index = index\n",
        "\n",
        "       while self.table [index] is not None:\n",
        "          if self.table[index][0] == key:\n",
        "              return self.table[index][1]\n",
        "          index = (index + 1) % self.size\n",
        "          if index == original_index:\n",
        "              break\n",
        "       return None\n",
        "\n",
        "# Contoh penggunaan\n",
        "ht = LinearProbingHashTable(5)\n",
        "ht.insert(\"apel\", 100)\n",
        "ht.insert(\"pisang\", 200)\n",
        "ht.insert(\"melon\", 300)\n",
        "\n",
        "print(\"Nilai untuk 'apel':\", ht.search(\"apel\"))\n",
        "print(\"Nilai untuk 'melon':\", ht.search(\"melon\"))"
      ],
      "metadata": {
        "colab": {
          "base_uri": "https://localhost:8080/"
        },
        "id": "KDz50P2q0LFc",
        "outputId": "8a24d7f2-44f2-407a-d33e-51ad44d0fc5c"
      },
      "execution_count": null,
      "outputs": [
        {
          "output_type": "stream",
          "name": "stdout",
          "text": [
            "Nilai untuk 'apel': 100\n",
            "Nilai untuk 'melon': 300\n"
          ]
        }
      ]
    },
    {
      "cell_type": "code",
      "source": [
        "class ChainingHashTable:\n",
        "  def __init__(self, size):\n",
        "      self.size = size\n",
        "      self.table = [[] for _ in range(size)]\n",
        "\n",
        "  def hash_function(self, key):\n",
        "      return hash(key) % self.size\n",
        "\n",
        "  def insert(self, key, value):\n",
        "      index = self.hash_function(key)\n",
        "      for i, (k, v) in enumerate(self.table[index]):\n",
        "          if k == key:\n",
        "            self.table[index] [i] = (key, value)\n",
        "            return\n",
        "      self.table[index].append((key, value))\n",
        "\n",
        "  def search(self, key):\n",
        "      index = self.hash_function(key)\n",
        "      for k, v in self.table[index]:\n",
        "         if k == key:\n",
        "             return v\n",
        "      return None\n",
        "# Contoh penggunaan\n",
        "ht = ChainingHashTable(5)\n",
        "ht.insert(\"apel\", 100)\n",
        "ht.insert(\"pisang\", 200)\n",
        "ht.insert(\"melon\", 300)\n",
        "\n",
        "print(\"Nilai untuk 'apel':\", ht.search(\"apel\"))\n",
        "print(\"Nilai untuk 'melon':\", ht.search(\"melon\"))\n"
      ],
      "metadata": {
        "colab": {
          "base_uri": "https://localhost:8080/"
        },
        "id": "oOhAV1Sd3lfs",
        "outputId": "3220a28f-cdc1-46cf-e8be-bd79acc26095"
      },
      "execution_count": null,
      "outputs": [
        {
          "output_type": "stream",
          "name": "stdout",
          "text": [
            "Nilai untuk 'apel': 100\n",
            "Nilai untuk 'melon': 300\n"
          ]
        }
      ]
    }
  ]
}